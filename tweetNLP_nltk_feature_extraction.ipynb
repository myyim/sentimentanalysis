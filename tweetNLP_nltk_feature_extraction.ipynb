{
 "cells": [
  {
   "cell_type": "markdown",
   "id": "6408ff59-fe79-4335-80ae-9700135e7863",
   "metadata": {},
   "source": [
    "# Can we predict disasters from tweets using NLP?\n",
    "This is a Kaggle's \"Getting Started\" competition. I used [Natural Language Toolkit (nltk)](https://www.nltk.org/), feature extraction, gradient descent and logistic regression to solve this problem."
   ]
  },
  {
   "cell_type": "markdown",
   "id": "b1251ae1-9815-40a8-af44-dd98fbf0afd1",
   "metadata": {},
   "source": [
    "## Section 1: Setup"
   ]
  },
  {
   "cell_type": "code",
   "execution_count": 1,
   "id": "a2cc7df3-07c1-4bce-8a0e-632082b336fd",
   "metadata": {},
   "outputs": [],
   "source": [
    "# packages\n",
    "import numpy as np \n",
    "import pandas as pd\n",
    "import matplotlib.pyplot as plt\n",
    "import re, string\n",
    "import nltk\n",
    "from nltk.corpus import stopwords\n",
    "from nltk.stem import PorterStemmer\n",
    "from nltk.tokenize import TweetTokenizer\n",
    "\n",
    "# include keywords and locations?\n",
    "include_all = False\n",
    "\n",
    "# balance the number of disaster and non-disaster tweets\n",
    "balance = True"
   ]
  },
  {
   "cell_type": "code",
   "execution_count": 2,
   "id": "a8f13700-8a42-4e8b-a0cd-976da288f741",
   "metadata": {},
   "outputs": [],
   "source": [
    "# functions\n",
    "def process_tweet(tweet):\n",
    "    \"\"\"Process tweet function.\n",
    "    Input:\n",
    "        tweet: a string containing a tweet\n",
    "    Output:\n",
    "        tweets_clean: a list of words containing the processed tweet\n",
    "    \"\"\"\n",
    "    stemmer = PorterStemmer()\n",
    "    stopwords_english = stopwords.words('english')\n",
    "    # remove stock market tickers like $GE\n",
    "    tweet = re.sub(r'\\$\\w*', '', tweet)\n",
    "    # remove old style retweet text \"RT\"\n",
    "    tweet = re.sub(r'^RT[\\s]+', '', tweet)\n",
    "    # remove hyperlinks\n",
    "    tweet = re.sub(r'https?:\\/\\/.*[\\r\\n]*', '', tweet)\n",
    "    # remove hashtags\n",
    "    # only removing the hash # sign from the word\n",
    "    tweet = re.sub(r'#', '', tweet)\n",
    "    # tokenize tweets\n",
    "    tokenizer = TweetTokenizer(preserve_case=False, strip_handles=True,\n",
    "                               reduce_len=True)\n",
    "    tweet_tokens = tokenizer.tokenize(tweet)\n",
    "    tweets_clean = []\n",
    "    for word in tweet_tokens:\n",
    "        if (word not in stopwords_english and  # remove stopwords\n",
    "                word not in string.punctuation):  # remove punctuation\n",
    "            # tweets_clean.append(word)\n",
    "            stem_word = stemmer.stem(word)  # stemming word\n",
    "            tweets_clean.append(stem_word)\n",
    "    return tweets_clean\n",
    "\n",
    "def build_freqs(tweets, ys):\n",
    "    \"\"\"Build frequencies.\n",
    "    Input:\n",
    "        tweets: a list of tweets\n",
    "        ys: an m x 1 array with the sentiment label of each tweet\n",
    "            (either 0 or 1)\n",
    "    Output:\n",
    "        freqs: a dictionary mapping each (word, sentiment) pair to its\n",
    "        frequency\n",
    "    \"\"\"\n",
    "    # Convert np array to list since zip needs an iterable.\n",
    "    # The squeeze is necessary or the list ends up with one element.\n",
    "    # Also note that this is just a NOP if ys is already a list.\n",
    "    yslist = np.squeeze(ys).tolist()\n",
    "    # Start with an empty dictionary and populate it by looping over all tweets\n",
    "    # and over all processed words in each tweet.\n",
    "    freqs = {}\n",
    "    for y, tweet in zip(yslist, tweets):\n",
    "        for word in process_tweet(tweet):\n",
    "            pair = (word, y)\n",
    "            if pair in freqs:\n",
    "                freqs[pair] += 1\n",
    "            else:\n",
    "                freqs[pair] = 1\n",
    "    return freqs\n",
    "\n",
    "def sigmoid(z): \n",
    "    '''\n",
    "    Input:\n",
    "        z: is the input (can be a scalar or an array)\n",
    "    '''\n",
    "    return 1/(1+np.exp(-z))\n",
    "\n",
    "def extract_features(tweet, freqs, process_tweet=process_tweet):\n",
    "    '''\n",
    "    Input: \n",
    "        tweet: a list of words for one tweet\n",
    "        freqs: a dictionary corresponding to the frequencies of each tuple (word, label)\n",
    "    Output: \n",
    "        x: a feature vector of dimension (1,3)\n",
    "    '''\n",
    "    # process_tweet tokenizes, stems, and removes stopwords\n",
    "    word_l = process_tweet(tweet)\n",
    "    # 3 elements in the form of a 1 x 3 vector\n",
    "    x = np.zeros((1, 3))     \n",
    "    #bias term is set to 1\n",
    "    x[0,0] = 1    \n",
    "    # loop through each word in the list of words\n",
    "    for word in word_l:        \n",
    "        for key, value in freqs.items():\n",
    "            if word==key[0] and key[1]==1:\n",
    "                # increment the word count for the positive label 1\n",
    "                x[0,1] += freqs[(word,1)]\n",
    "            if word==key[0] and key[1]==0:\n",
    "                # increment the word count for the negative label 0\n",
    "                x[0,2] += freqs[(word,0)]\n",
    "    return x\n",
    "\n",
    "def gradientDescent(x, y, theta, alpha, num_iters):\n",
    "    '''\n",
    "    Input:\n",
    "        x: matrix of features which is (m,n+1)\n",
    "        y: corresponding labels of the input matrix x, dimensions (m,1)\n",
    "        theta: weight vector of dimension (n+1,1)\n",
    "        alpha: learning rate\n",
    "        num_iters: number of iterations you want to train your model for\n",
    "    Output:\n",
    "        J: the final cost\n",
    "        theta: your final weight vector\n",
    "    Hint: you might want to print the cost to make sure that it is going down.\n",
    "    '''\n",
    "    # get 'm', the number of rows in matrix x\n",
    "    m = x.shape[0]\n",
    "    y = y.reshape((m,1))\n",
    "    J = np.zeros(num_iters)\n",
    "    acc = np.zeros(num_iters)\n",
    "    thetaarr = np.zeros((num_iters+1,3))\n",
    "    thetaarr[0,:] = theta[:,0]*0\n",
    "    for i in range(num_iters):        \n",
    "        # get z, the dot product of x and theta\n",
    "        z = np.dot(x,theta)        \n",
    "        # get the sigmoid of z\n",
    "        h = sigmoid(z)\n",
    "        # calculate the cost function\n",
    "        J[i] = -(np.sum(y*np.log(h))+np.sum((1-y)*np.log(1-h)))/float(m)\n",
    "        acc[i] = np.sum((h>=0.5)*1 == y)/float(m)\n",
    "        # update the weights theta\n",
    "        theta = theta - alpha*(np.dot(x.T,h-y))/float(m)\n",
    "        thetaarr[i+1,:] = theta[:,0]\n",
    "    plt.figure(figsize=[12,5])\n",
    "    plt.subplot(121)\n",
    "    plt.plot(thetaarr[:,0],label='bias')\n",
    "    plt.plot(thetaarr[:,1],label='w1')\n",
    "    plt.plot(thetaarr[:,2],label='w2')\n",
    "    plt.xlabel('number of iterations')\n",
    "    plt.subplot(122)\n",
    "    plt.plot(acc)\n",
    "    plt.ylabel('accuracy')\n",
    "    plt.xlabel('number of iterations')\n",
    "    return J, theta, acc\n",
    "\n",
    "def predict_tweet(tweet, freqs, theta):\n",
    "    '''\n",
    "    Input: \n",
    "        tweet: a string\n",
    "        freqs: a dictionary corresponding to the frequencies of each tuple (word, label)\n",
    "        theta: (3,1) vector of weights\n",
    "    Output: \n",
    "        y_pred: the probability of a tweet being positive or negative\n",
    "    '''    \n",
    "    # extract the features of the tweet and store it into x\n",
    "    x = extract_features(tweet, freqs)\n",
    "    \n",
    "    # make the prediction using x and theta\n",
    "    y_pred = sigmoid(np.dot(x,theta))    \n",
    "    return y_pred\n",
    "\n",
    "def test_logistic_regression(test_x, test_y, freqs, theta, predict_tweet=predict_tweet):\n",
    "    \"\"\"\n",
    "    Input: \n",
    "        test_x: a list of tweets\n",
    "        test_y: (m, 1) vector with the corresponding labels for the list of tweets\n",
    "        freqs: a dictionary with the frequency of each pair (or tuple)\n",
    "        theta: weight vector of dimension (3, 1)\n",
    "    Output: \n",
    "        accuracy: (# of tweets classified correctly) / (total # of tweets)\n",
    "    \"\"\" \n",
    "    # the list for storing predictions\n",
    "    y_hat = []\n",
    "    test_y = np.array(test_y)\n",
    "    for tweet in test_x:\n",
    "        # get the label prediction for the tweet\n",
    "        y_pred = predict_tweet(tweet, freqs, theta)        \n",
    "        if y_pred >= 0.5:\n",
    "            # append 1.0 to the list\n",
    "            y_hat.append(1.0)\n",
    "        else:\n",
    "            # append 0 to the list\n",
    "            y_hat.append(0.0)\n",
    "    # With the above implementation, y_hat is a list, but test_y is (m,1) array\n",
    "    # convert both to one-dimensional arrays in order to compare them using the '==' operator\n",
    "    accuracy = np.sum(np.array(y_hat)==np.squeeze(test_y))/len(y_hat)    \n",
    "    return accuracy"
   ]
  },
  {
   "cell_type": "code",
   "execution_count": 3,
   "id": "646a10d0-7a71-4e47-a56f-f1ff4f76c4a3",
   "metadata": {},
   "outputs": [
    {
     "name": "stdout",
     "output_type": "stream",
     "text": [
      "number of tweets:  7613\n",
      "number of disasters:  3271\n",
      "number of non-disasters:  4342\n"
     ]
    },
    {
     "data": {
      "text/html": [
       "<div>\n",
       "<style scoped>\n",
       "    .dataframe tbody tr th:only-of-type {\n",
       "        vertical-align: middle;\n",
       "    }\n",
       "\n",
       "    .dataframe tbody tr th {\n",
       "        vertical-align: top;\n",
       "    }\n",
       "\n",
       "    .dataframe thead th {\n",
       "        text-align: right;\n",
       "    }\n",
       "</style>\n",
       "<table border=\"1\" class=\"dataframe\">\n",
       "  <thead>\n",
       "    <tr style=\"text-align: right;\">\n",
       "      <th></th>\n",
       "      <th>id</th>\n",
       "      <th>keyword</th>\n",
       "      <th>location</th>\n",
       "      <th>text</th>\n",
       "      <th>target</th>\n",
       "    </tr>\n",
       "  </thead>\n",
       "  <tbody>\n",
       "    <tr>\n",
       "      <th>0</th>\n",
       "      <td>1</td>\n",
       "      <td>NaN</td>\n",
       "      <td>NaN</td>\n",
       "      <td>Our Deeds are the Reason of this #earthquake M...</td>\n",
       "      <td>1</td>\n",
       "    </tr>\n",
       "    <tr>\n",
       "      <th>1</th>\n",
       "      <td>4</td>\n",
       "      <td>NaN</td>\n",
       "      <td>NaN</td>\n",
       "      <td>Forest fire near La Ronge Sask. Canada</td>\n",
       "      <td>1</td>\n",
       "    </tr>\n",
       "    <tr>\n",
       "      <th>2</th>\n",
       "      <td>5</td>\n",
       "      <td>NaN</td>\n",
       "      <td>NaN</td>\n",
       "      <td>All residents asked to 'shelter in place' are ...</td>\n",
       "      <td>1</td>\n",
       "    </tr>\n",
       "    <tr>\n",
       "      <th>3</th>\n",
       "      <td>6</td>\n",
       "      <td>NaN</td>\n",
       "      <td>NaN</td>\n",
       "      <td>13,000 people receive #wildfires evacuation or...</td>\n",
       "      <td>1</td>\n",
       "    </tr>\n",
       "    <tr>\n",
       "      <th>4</th>\n",
       "      <td>7</td>\n",
       "      <td>NaN</td>\n",
       "      <td>NaN</td>\n",
       "      <td>Just got sent this photo from Ruby #Alaska as ...</td>\n",
       "      <td>1</td>\n",
       "    </tr>\n",
       "  </tbody>\n",
       "</table>\n",
       "</div>"
      ],
      "text/plain": [
       "   id keyword location                                               text  \\\n",
       "0   1     NaN      NaN  Our Deeds are the Reason of this #earthquake M...   \n",
       "1   4     NaN      NaN             Forest fire near La Ronge Sask. Canada   \n",
       "2   5     NaN      NaN  All residents asked to 'shelter in place' are ...   \n",
       "3   6     NaN      NaN  13,000 people receive #wildfires evacuation or...   \n",
       "4   7     NaN      NaN  Just got sent this photo from Ruby #Alaska as ...   \n",
       "\n",
       "   target  \n",
       "0       1  \n",
       "1       1  \n",
       "2       1  \n",
       "3       1  \n",
       "4       1  "
      ]
     },
     "execution_count": 3,
     "metadata": {},
     "output_type": "execute_result"
    }
   ],
   "source": [
    "# extract the data\n",
    "train = pd.read_csv('train.csv')\n",
    "npos = np.sum(train[\"target\"]==1)\n",
    "nneg = np.sum(train[\"target\"]==0)\n",
    "print('number of tweets: ',train.shape[0])\n",
    "print('number of disasters: ',npos)\n",
    "print('number of non-disasters: ',nneg)\n",
    "train.head()"
   ]
  },
  {
   "cell_type": "code",
   "execution_count": 4,
   "id": "16002cd5-db85-4476-8b44-50978b6dc920",
   "metadata": {},
   "outputs": [
    {
     "name": "stdout",
     "output_type": "stream",
     "text": [
      "number of tweets in test data:  3263\n"
     ]
    }
   ],
   "source": [
    "test = pd.read_csv('test.csv')\n",
    "print('number of tweets in test data: ',test.shape[0])\n",
    "# test.head()"
   ]
  },
  {
   "cell_type": "code",
   "execution_count": 5,
   "id": "a2fb8cad-9c59-4aef-a34a-5ae575822687",
   "metadata": {},
   "outputs": [],
   "source": [
    "# split the data into training and validation sets\n",
    "if include_all:\n",
    "    train_text = train['text'].tolist()\n",
    "    train_key = train['keyword'].tolist()\n",
    "    train_loc = train['location'].tolist()\n",
    "    train_data = []\n",
    "    for j in range(train.shape[0]):\n",
    "        train_data.append(train_text[j]+' '+str(train_key[j])+' '+str(train_loc[j]))\n",
    "else:\n",
    "    train_data = train['text'].tolist()\n",
    "\n",
    "train_label = train['target'].tolist()\n",
    "val_data = train_data[7513:]\n",
    "val_label = train_label[7513:]\n",
    "train_data = train_data[1:7513]\n",
    "train_label = train_label[1:7513]\n",
    "test_data = test['text']\n",
    "test_id = test['id']"
   ]
  },
  {
   "cell_type": "code",
   "execution_count": 6,
   "id": "0205b0b3-afa0-4999-8cbe-f370bcf62a67",
   "metadata": {},
   "outputs": [],
   "source": [
    "# format the data\n",
    "# train data and labels\n",
    "freqs = build_freqs(train_data,train_label) # used for all subsequent feature extractions\n",
    "scores = freqs.copy()\n",
    "cutoff_factor = 1./3\n",
    "for pair in scores:\n",
    "    if balance:\n",
    "        if pair[1] == 1: # disaster\n",
    "            scores[pair] = np.tanh(freqs[pair]*(npos+nneg)/npos*cutoff_factor)\n",
    "        else:\n",
    "            scores[pair] = np.tanh(freqs[pair]*(npos+nneg)/nneg*cutoff_factor)\n",
    "    else:\n",
    "        scores[pair] = np.tanh(freqs[pair]*cutoff_factor)\n",
    "        \n",
    "X = np.zeros((len(train_data), 3))\n",
    "for i in range(len(train_data)):\n",
    "    X[i, :]= extract_features(train_data[i], scores)\n",
    "Y = np.array(train_label)"
   ]
  },
  {
   "cell_type": "markdown",
   "id": "7f2eb518-a7d5-4f64-9694-1ca15f3eda7b",
   "metadata": {},
   "source": [
    "## Section 2: Model"
   ]
  },
  {
   "cell_type": "code",
   "execution_count": 7,
   "id": "2dae90f3-3d17-44d6-8c4d-fc80daa14f8a",
   "metadata": {},
   "outputs": [
    {
     "name": "stdout",
     "output_type": "stream",
     "text": [
      "The resulting vector of weights is [[-0.25510669]\n",
      " [ 1.33586666]\n",
      " [-1.34368762]]\n",
      "The accuracy is 0.9187965921192758\n"
     ]
    },
    {
     "data": {
      "image/png": "[encoded data removed]",
      "text/plain": [
       "<Figure size 864x360 with 2 Axes>"
      ]
     },
     "metadata": {
      "needs_background": "light"
     },
     "output_type": "display_data"
    }
   ],
   "source": [
    "# # apply gradient descent & evaluate the model with test data\n",
    "J, theta, acc = gradientDescent(X, Y, np.zeros((3, 1)), 1e-1, 100)\n",
    "print(f\"The resulting vector of weights is {theta}\")\n",
    "print(f\"The accuracy is {acc[-1]}\")"
   ]
  },
  {
   "cell_type": "code",
   "execution_count": 8,
   "id": "f380d1d2-eb5f-4c4f-bade-40a53aa9599c",
   "metadata": {},
   "outputs": [
    {
     "data": {
      "text/plain": [
       "[<matplotlib.lines.Line2D at 0x2aaae7d65070>]"
      ]
     },
     "execution_count": 8,
     "metadata": {},
     "output_type": "execute_result"
    },
    {
     "data": {
      "image/png": "[encoded data removed]",
      "text/plain": [
       "<Figure size 432x288 with 1 Axes>"
      ]
     },
     "metadata": {
      "needs_background": "light"
     },
     "output_type": "display_data"
    }
   ],
   "source": [
    "# Check\n",
    "plt.figure()\n",
    "plt.plot(X[Y==0,1],X[Y==0,2],'bx',label='non-disaster')\n",
    "plt.plot(X[Y==1,1],X[Y==1,2],'r+',label='disaster')\n",
    "plt.legend()\n",
    "plt.xlabel('disaster score')\n",
    "plt.ylabel('non-disaster score')\n",
    "x = np.arange(0,26,5)\n",
    "plt.plot(x,-(theta[0]+theta[1]*x)/theta[2],'k')"
   ]
  },
  {
   "cell_type": "code",
   "execution_count": 9,
   "id": "a9f931b1-b301-4b98-9ca7-bd2a6d722c11",
   "metadata": {},
   "outputs": [
    {
     "name": "stdout",
     "output_type": "stream",
     "text": [
      "model's accuracy for validation set = 0.8800\n"
     ]
    },
    {
     "data": {
      "image/png": "[encoded data removed]",
      "text/plain": [
       "<Figure size 432x288 with 1 Axes>"
      ]
     },
     "metadata": {
      "needs_background": "light"
     },
     "output_type": "display_data"
    }
   ],
   "source": [
    "# validation data and labels\n",
    "X_val = np.zeros((len(val_data), 3))\n",
    "for i in range(len(val_data)):\n",
    "    X_val[i, :]= extract_features(val_data[i], scores)\n",
    "Y_val = np.array(val_label)\n",
    "plt.figure()\n",
    "plt.plot(X_val[Y_val==0,1],X_val[Y_val==0,2],'bx',label='non-disaster')\n",
    "plt.plot(X_val[Y_val==1,1],X_val[Y_val==1,2],'r+',label='disaster')\n",
    "plt.plot(x,-(theta[0]+theta[1]*x)/theta[2],'k')\n",
    "plt.xlabel('disaster score')\n",
    "plt.ylabel('non-disaster score')\n",
    "\n",
    "accuracy = test_logistic_regression(val_data, val_label, scores, theta)\n",
    "print(f\"model's accuracy for validation set = {accuracy:.4f}\")"
   ]
  },
  {
   "cell_type": "markdown",
   "id": "0c97754f-6d86-495c-9542-9a0950b84c48",
   "metadata": {},
   "source": [
    "The model is simple with very few parameters to fit. As expected, the accuracy of 0.88 is not very high."
   ]
  },
  {
   "cell_type": "code",
   "execution_count": 10,
   "id": "904449d6-7d2e-4038-a498-55d0b5088599",
   "metadata": {},
   "outputs": [],
   "source": [
    "pred = []\n",
    "for tweet in test_data:\n",
    "    pred.append(predict_tweet(tweet, scores, theta)[0,0])\n",
    "predictions = np.multiply(np.array(pred)>=0.5, 1)\n",
    "df = pd.DataFrame(data={'id':test_id,'target': np.transpose(predictions).tolist()[0]})\n",
    "df.head()\n",
    "df.to_csv('submission_nltk_logistic.csv',index=False)"
   ]
  },
  {
   "cell_type": "code",
   "execution_count": null,
   "id": "577f6e52-bf49-40d0-ae9e-0e2dcf47411e",
   "metadata": {},
   "outputs": [],
   "source": []
  }
 ],
 "metadata": {
  "kernelspec": {
   "display_name": "Python 3 (ipykernel)",
   "language": "python",
   "name": "python3"
  },
  "language_info": {
   "codemirror_mode": {
    "name": "ipython",
    "version": 3
   },
   "file_extension": ".py",
   "mimetype": "text/x-python",
   "name": "python",
   "nbconvert_exporter": "python",
   "pygments_lexer": "ipython3",
   "version": "3.9.13"
  }
 },
 "nbformat": 4,
 "nbformat_minor": 5
}
