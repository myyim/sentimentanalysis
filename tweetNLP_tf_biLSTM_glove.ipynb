{
 "cells": [
  {
   "cell_type": "markdown",
   "id": "6408ff59-fe79-4335-80ae-9700135e7863",
   "metadata": {},
   "source": [
    "# Can we predict disasters from tweets using NLP?\n",
    "This is a Kaggle's \"Getting Started\" competition. I used [a RNN model from TensorFlow](https://www.tensorflow.org/text/tutorials/text_classification_rnn) as the NLP model to solve this problem."
   ]
  },
  {
   "cell_type": "markdown",
   "id": "b1251ae1-9815-40a8-af44-dd98fbf0afd1",
   "metadata": {},
   "source": [
    "## Section 1: Setup"
   ]
  },
  {
   "cell_type": "code",
   "execution_count": 1,
   "id": "a2cc7df3-07c1-4bce-8a0e-632082b336fd",
   "metadata": {},
   "outputs": [],
   "source": [
    "# packages\n",
    "import numpy as np \n",
    "import pandas as pd\n",
    "import tensorflow as tf\n",
    "import matplotlib.pyplot as plt\n",
    "\n",
    "is_clean = 1\n",
    "use_glove = 1\n",
    "if use_glove:\n",
    "    is_embed_trained = True"
   ]
  },
  {
   "cell_type": "code",
   "execution_count": 2,
   "id": "b1581b7b-4f21-4fc0-a392-9714c1b19df4",
   "metadata": {},
   "outputs": [],
   "source": [
    "# data cleaning\n",
    "import string, re, os\n",
    "import nltk\n",
    "from nltk.tokenize import TweetTokenizer\n",
    "from nltk.corpus import stopwords\n",
    "\n",
    "# Stop words a\n",
    "stopwords_english = stopwords.words('english')\n",
    "\n",
    "# Stemming (Not good when using pretrained embeddings)\n",
    "# from nltk.stem import PorterStemmer\n",
    "# stemmer = PorterStemmer()\n",
    "\n",
    "contractions = { \n",
    "\"ain't\": \"am not / are not / is not / has not / have not\",\n",
    "\"aren't\": \"are not / am not\",\n",
    "\"can't\": \"cannot\",\n",
    "\"can't've\": \"cannot have\",\n",
    "\"'cause\": \"because\",\n",
    "\"could've\": \"could have\",\n",
    "\"couldn't\": \"could not\",\n",
    "\"couldn't've\": \"could not have\",\n",
    "\"didn't\": \"did not\",\n",
    "\"doesn't\": \"does not\",\n",
    "\"don't\": \"do not\",\n",
    "\"hadn't\": \"had not\",\n",
    "\"hadn't've\": \"had not have\",\n",
    "\"hasn't\": \"has not\",\n",
    "\"haven't\": \"have not\",\n",
    "\"he'd\": \"he had / he would\",\n",
    "\"he'd've\": \"he would have\",\n",
    "\"he'll\": \"he shall / he will\",\n",
    "\"he'll've\": \"he shall have / he will have\",\n",
    "\"he's\": \"he has / he is\",\n",
    "\"how'd\": \"how did\",\n",
    "\"how'd'y\": \"how do you\",\n",
    "\"how'll\": \"how will\",\n",
    "\"how's\": \"how has / how is / how does\",\n",
    "\"I'd\": \"I had / I would\",\n",
    "\"I'd've\": \"I would have\",\n",
    "\"I'll\": \"I shall / I will\",\n",
    "\"I'll've\": \"I shall have / I will have\",\n",
    "\"I'm\": \"I am\",\n",
    "\"I've\": \"I have\",\n",
    "\"isn't\": \"is not\",\n",
    "\"it'd\": \"it had / it would\",\n",
    "\"it'd've\": \"it would have\",\n",
    "\"it'll\": \"it shall / it will\",\n",
    "\"it'll've\": \"it shall have / it will have\",\n",
    "\"it's\": \"it has / it is\",\n",
    "\"let's\": \"let us\",\n",
    "\"ma'am\": \"madam\",\n",
    "\"mayn't\": \"may not\",\n",
    "\"might've\": \"might have\",\n",
    "\"mightn't\": \"might not\",\n",
    "\"mightn't've\": \"might not have\",\n",
    "\"must've\": \"must have\",\n",
    "\"mustn't\": \"must not\",\n",
    "\"mustn't've\": \"must not have\",\n",
    "\"needn't\": \"need not\",\n",
    "\"needn't've\": \"need not have\",\n",
    "\"o'clock\": \"of the clock\",\n",
    "\"oughtn't\": \"ought not\",\n",
    "\"oughtn't've\": \"ought not have\",\n",
    "\"shan't\": \"shall not\",\n",
    "\"sha'n't\": \"shall not\",\n",
    "\"shan't've\": \"shall not have\",\n",
    "\"she'd\": \"she had / she would\",\n",
    "\"she'd've\": \"she would have\",\n",
    "\"she'll\": \"she shall / she will\",\n",
    "\"she'll've\": \"she shall have / she will have\",\n",
    "\"she's\": \"she has / she is\",\n",
    "\"should've\": \"should have\",\n",
    "\"shouldn't\": \"should not\",\n",
    "\"shouldn't've\": \"should not have\",\n",
    "\"so've\": \"so have\",\n",
    "\"so's\": \"so as / so is\",\n",
    "\"that'd\": \"that would / that had\",\n",
    "\"that'd've\": \"that would have\",\n",
    "\"that's\": \"that has / that is\",\n",
    "\"there'd\": \"there had / there would\",\n",
    "\"there'd've\": \"there would have\",\n",
    "\"there's\": \"there has / there is\",\n",
    "\"they'd\": \"they had / they would\",\n",
    "\"they'd've\": \"they would have\",\n",
    "\"they'll\": \"they shall / they will\",\n",
    "\"they'll've\": \"they shall have / they will have\",\n",
    "\"they're\": \"they are\",\n",
    "\"they've\": \"they have\",\n",
    "\"to've\": \"to have\",\n",
    "\"wasn't\": \"was not\",\n",
    "\"we'd\": \"we had / we would\",\n",
    "\"we'd've\": \"we would have\",\n",
    "\"we'll\": \"we will\",\n",
    "\"we'll've\": \"we will have\",\n",
    "\"we're\": \"we are\",\n",
    "\"we've\": \"we have\",\n",
    "\"weren't\": \"were not\",\n",
    "\"what'll\": \"what shall / what will\",\n",
    "\"what'll've\": \"what shall have / what will have\",\n",
    "\"what're\": \"what are\",\n",
    "\"what's\": \"what has / what is\",\n",
    "\"what've\": \"what have\",\n",
    "\"when's\": \"when has / when is\",\n",
    "\"when've\": \"when have\",\n",
    "\"where'd\": \"where did\",\n",
    "\"where's\": \"where has / where is\",\n",
    "\"where've\": \"where have\",\n",
    "\"who'll\": \"who shall / who will\",\n",
    "\"who'll've\": \"who shall have / who will have\",\n",
    "\"who's\": \"who has / who is\",\n",
    "\"who've\": \"who have\",\n",
    "\"why's\": \"why has / why is\",\n",
    "\"why've\": \"why have\",\n",
    "\"will've\": \"will have\",\n",
    "\"won't\": \"will not\",\n",
    "\"won't've\": \"will not have\",\n",
    "\"would've\": \"would have\",\n",
    "\"wouldn't\": \"would not\",\n",
    "\"wouldn't've\": \"would not have\",\n",
    "\"y'all\": \"you all\",\n",
    "\"y'all'd\": \"you all would\",\n",
    "\"y'all'd've\": \"you all would have\",\n",
    "\"y'all're\": \"you all are\",\n",
    "\"y'all've\": \"you all have\",\n",
    "\"you'd\": \"you had / you would\",\n",
    "\"you'd've\": \"you would have\",\n",
    "\"you'll\": \"you shall / you will\",\n",
    "\"you'll've\": \"you shall have / you will have\",\n",
    "\"you're\": \"you are\",\n",
    "\"you've\": \"you have\"\n",
    "}\n",
    "\n",
    "def expand_contractions(s, contractions = contractions):\n",
    "    contractions_re = re.compile('(%s)' % '|'.join(contractions.keys()))\n",
    "    def replace(match):\n",
    "        return contractions[match.group(0)]\n",
    "    return contractions_re.sub(replace, s)\n",
    "\n",
    "def process_tweet(tweet):\n",
    "    # remove stock market tickers like $GE\n",
    "    tweet = re.sub(r'\\$\\w*', '', tweet)\n",
    "    # remove old style retweet text \"RT\"\n",
    "    tweet = re.sub(r'^RT[\\s]+', '', tweet)\n",
    "    # remove hyperlinks\n",
    "    tweet = re.sub(r'https?:\\/\\/.*[\\r\\n]*', '', tweet)\n",
    "    # remove hashtags\n",
    "    # only removing the hash # sign from the word\n",
    "    tweet = re.sub(r'#', '', tweet)\n",
    "    tweet = re.sub('\\n', '', tweet)\n",
    "    # remove numbers\n",
    "    # tweet = re.sub('\\w*\\d\\w*', '', tweet)\n",
    "    # tokenize tweets\n",
    "    tokenizer = TweetTokenizer(preserve_case=False, strip_handles=True, reduce_len=True)\n",
    "    tweet = expand_contractions(tweet)\n",
    "    tweet_tokens = tokenizer.tokenize(tweet)\n",
    "    tweets_clean = ''\n",
    "    for word in tweet_tokens:\n",
    "        # if word not in string.punctuation:\n",
    "        if (word not in stopwords_english and # remove stopwords\n",
    "            word not in string.punctuation): # remove punctuation\n",
    "            # stem_word = stemmer.stem(word) # stemming word\n",
    "            tweets_clean += ' ' + word\n",
    "    return tweets_clean"
   ]
  },
  {
   "cell_type": "code",
   "execution_count": 3,
   "id": "646a10d0-7a71-4e47-a56f-f1ff4f76c4a3",
   "metadata": {},
   "outputs": [
    {
     "name": "stdout",
     "output_type": "stream",
     "text": [
      "number of tweets:  7613\n",
      "number of disasters:  3271\n",
      "number of non-disasters:  4342\n"
     ]
    },
    {
     "data": {
      "text/html": [
       "<div>\n",
       "<style scoped>\n",
       "    .dataframe tbody tr th:only-of-type {\n",
       "        vertical-align: middle;\n",
       "    }\n",
       "\n",
       "    .dataframe tbody tr th {\n",
       "        vertical-align: top;\n",
       "    }\n",
       "\n",
       "    .dataframe thead th {\n",
       "        text-align: right;\n",
       "    }\n",
       "</style>\n",
       "<table border=\"1\" class=\"dataframe\">\n",
       "  <thead>\n",
       "    <tr style=\"text-align: right;\">\n",
       "      <th></th>\n",
       "      <th>id</th>\n",
       "      <th>keyword</th>\n",
       "      <th>location</th>\n",
       "      <th>text</th>\n",
       "      <th>target</th>\n",
       "    </tr>\n",
       "  </thead>\n",
       "  <tbody>\n",
       "    <tr>\n",
       "      <th>0</th>\n",
       "      <td>1</td>\n",
       "      <td>NaN</td>\n",
       "      <td>NaN</td>\n",
       "      <td>Our Deeds are the Reason of this #earthquake M...</td>\n",
       "      <td>1</td>\n",
       "    </tr>\n",
       "    <tr>\n",
       "      <th>1</th>\n",
       "      <td>4</td>\n",
       "      <td>NaN</td>\n",
       "      <td>NaN</td>\n",
       "      <td>Forest fire near La Ronge Sask. Canada</td>\n",
       "      <td>1</td>\n",
       "    </tr>\n",
       "    <tr>\n",
       "      <th>2</th>\n",
       "      <td>5</td>\n",
       "      <td>NaN</td>\n",
       "      <td>NaN</td>\n",
       "      <td>All residents asked to 'shelter in place' are ...</td>\n",
       "      <td>1</td>\n",
       "    </tr>\n",
       "    <tr>\n",
       "      <th>3</th>\n",
       "      <td>6</td>\n",
       "      <td>NaN</td>\n",
       "      <td>NaN</td>\n",
       "      <td>13,000 people receive #wildfires evacuation or...</td>\n",
       "      <td>1</td>\n",
       "    </tr>\n",
       "    <tr>\n",
       "      <th>4</th>\n",
       "      <td>7</td>\n",
       "      <td>NaN</td>\n",
       "      <td>NaN</td>\n",
       "      <td>Just got sent this photo from Ruby #Alaska as ...</td>\n",
       "      <td>1</td>\n",
       "    </tr>\n",
       "  </tbody>\n",
       "</table>\n",
       "</div>"
      ],
      "text/plain": [
       "   id keyword location                                               text  \\\n",
       "0   1     NaN      NaN  Our Deeds are the Reason of this #earthquake M...   \n",
       "1   4     NaN      NaN             Forest fire near La Ronge Sask. Canada   \n",
       "2   5     NaN      NaN  All residents asked to 'shelter in place' are ...   \n",
       "3   6     NaN      NaN  13,000 people receive #wildfires evacuation or...   \n",
       "4   7     NaN      NaN  Just got sent this photo from Ruby #Alaska as ...   \n",
       "\n",
       "   target  \n",
       "0       1  \n",
       "1       1  \n",
       "2       1  \n",
       "3       1  \n",
       "4       1  "
      ]
     },
     "execution_count": 3,
     "metadata": {},
     "output_type": "execute_result"
    }
   ],
   "source": [
    "# extract the data\n",
    "train = pd.read_csv('train.csv')\n",
    "print('number of tweets: ',train.shape[0])\n",
    "print('number of disasters: ',np.sum(train[\"target\"]==1))\n",
    "print('number of non-disasters: ',np.sum(train[\"target\"]==0))\n",
    "train.head()"
   ]
  },
  {
   "cell_type": "code",
   "execution_count": 4,
   "id": "16002cd5-db85-4476-8b44-50978b6dc920",
   "metadata": {},
   "outputs": [
    {
     "name": "stdout",
     "output_type": "stream",
     "text": [
      "number of tweets in test data:  3263\n"
     ]
    }
   ],
   "source": [
    "test = pd.read_csv('test.csv')\n",
    "print('number of tweets in test data: ',test.shape[0])\n",
    "# test.head()"
   ]
  },
  {
   "cell_type": "code",
   "execution_count": 5,
   "id": "a2fb8cad-9c59-4aef-a34a-5ae575822687",
   "metadata": {},
   "outputs": [
    {
     "name": "stdout",
     "output_type": "stream",
     "text": [
      "['Our Deeds are the Reason of this #earthquake May ALLAH Forgive us all', 'Forest fire near La Ronge Sask. Canada', \"All residents asked to 'shelter in place' are being notified by officers. No other evacuation or shelter in place orders are expected\", '13,000 people receive #wildfires evacuation orders in California ', 'Just got sent this photo from Ruby #Alaska as smoke from #wildfires pours into a school ', '#RockyFire Update => California Hwy. 20 closed in both directions due to Lake County fire - #CAfire #wildfires', '#flood #disaster Heavy rain causes flash flooding of streets in Manitou, Colorado Springs areas', \"I'm on top of the hill and I can see a fire in the woods...\", \"There's an emergency evacuation happening now in the building across the street\", \"I'm afraid that the tornado is coming to our area...\"]\n",
      "[' deeds reason earthquake may allah forgive us', ' forest fire near la ronge sask canada', ' residents asked shelter place notified officers evacuation shelter place orders expected', ' 13,000 people receive wildfires evacuation orders california', ' got sent photo ruby alaska smoke wildfires pours school', ' rockyfire update california hwy 20 closed directions due lake county fire cafire wildfires', ' flood disaster heavy rain causes flash flooding streets manitou colorado springs areas', ' top hill see fire woods ...', \" there's emergency evacuation happening building across street\", ' afraid tornado coming area ...']\n"
     ]
    }
   ],
   "source": [
    "# split the data into training and validation sets\n",
    "train_data = train['text'].tolist()\n",
    "train_label = train['target'].tolist()\n",
    "test_data = test['text'].tolist()\n",
    "test_id = test['id'].tolist()\n",
    "if is_clean:\n",
    "    print(train_data[:10])\n",
    "    cleaned = []\n",
    "    for tweet in train_data:\n",
    "        cleaned.append(process_tweet(tweet))\n",
    "    train_data = cleaned.copy()\n",
    "    print(train_data[:10])\n",
    "    cleaned = []\n",
    "    for tweet in test_data:\n",
    "         cleaned.append(process_tweet(tweet))\n",
    "    test_data = cleaned.copy() \n",
    "\n",
    "import random\n",
    "np.random.seed(10)\n",
    "rint = np.random.choice(range(len(train_data)), size=400, replace=False)\n",
    "         \n",
    "validation_data = [train_data[i] for i in rint]\n",
    "validation_label = [train_label[i] for i in rint]\n",
    "train_data = [train_data[i] for i in range(train.shape[0]) if i not in rint]\n",
    "train_label = [train_label[i] for i in range(train.shape[0]) if i not in rint]"
   ]
  },
  {
   "cell_type": "code",
   "execution_count": 6,
   "id": "0205b0b3-afa0-4999-8cbe-f370bcf62a67",
   "metadata": {},
   "outputs": [
    {
     "name": "stderr",
     "output_type": "stream",
     "text": [
      "2022-07-28 22:56:31.888869: W tensorflow/stream_executor/platform/default/dso_loader.cc:64] Could not load dynamic library 'libcuda.so.1'; dlerror: libcuda.so.1: cannot open shared object file: No such file or directory; LD_LIBRARY_PATH: /hpc/spack/opt/spack/linux-centos7-broadwell/gcc-9.2.0/cudnn-8.2.4.15-11.4-tfeuowyx2bt44r5jk43f6ojqivzlivpd/lib64:/hpc/spack/opt/spack/linux-centos7-broadwell/gcc-9.2.0/cuda-11.4.2-nxqfgxjhusk4pttcrprmdmzfavbbeqdz/lib64:/hpc/spack/opt/spack/linux-centos7-x86_64/gcc-7.3.0/gcc-9.2.0-6zgrndxveon2m5mjhltrqccdcewrdktx/lib64:/hpc/spack/opt/spack/linux-centos7-x86_64/gcc-7.3.0/gcc-9.2.0-6zgrndxveon2m5mjhltrqccdcewrdktx/lib\n",
      "2022-07-28 22:56:31.888941: W tensorflow/stream_executor/cuda/cuda_driver.cc:269] failed call to cuInit: UNKNOWN ERROR (303)\n"
     ]
    }
   ],
   "source": [
    "# format the data\n",
    "train_ds = tf.data.Dataset.from_tensor_slices((train_data, train_label))\n",
    "validation_ds = tf.data.Dataset.from_tensor_slices((validation_data, validation_label))\n",
    "\n",
    "BUFFER_SIZE = 10000\n",
    "BATCH_SIZE = 64\n",
    "\n",
    "train_dataset = train_ds.shuffle(BUFFER_SIZE).batch(BATCH_SIZE).prefetch(tf.data.AUTOTUNE)\n",
    "validation_dataset = validation_ds.batch(BATCH_SIZE).prefetch(tf.data.AUTOTUNE)"
   ]
  },
  {
   "cell_type": "markdown",
   "id": "7f2eb518-a7d5-4f64-9694-1ca15f3eda7b",
   "metadata": {},
   "source": [
    "## Section 2: Model"
   ]
  },
  {
   "cell_type": "code",
   "execution_count": 7,
   "id": "15bcece7-d775-437d-8850-b38b6f68f64f",
   "metadata": {},
   "outputs": [
    {
     "name": "stdout",
     "output_type": "stream",
     "text": [
      "Loaded 400000 word vectors.\n"
     ]
    }
   ],
   "source": [
    "# encoder\n",
    "vocab_size = 1000\n",
    "encoder = tf.keras.layers.TextVectorization(max_tokens=vocab_size)\n",
    "encoder.adapt(train_dataset.map(lambda text, label: text))\n",
    "\n",
    "# load the whole embedding into memory\n",
    "if use_glove:\n",
    "    embeddings_index = dict()\n",
    "    f = open('./glove.6B.200d.txt')\n",
    "    for line in f:\n",
    "        values = line.split()\n",
    "        word = values[0]\n",
    "        coefs = np.asarray(values[1:], dtype='float32')\n",
    "        embeddings_index[word] = coefs\n",
    "    f.close()\n",
    "    print('Loaded %s word vectors.' % len(embeddings_index))\n",
    "\n",
    "    vocab = np.array(encoder.get_vocabulary())\n",
    "    embed_len = 200\n",
    "    embedding_matrix = np.zeros((vocab_size, embed_len))\n",
    "    #for word, i in t.word_index.items():\n",
    "    for i, word in enumerate(vocab):\n",
    "        embedding_vector = embeddings_index.get(word)\n",
    "        if embedding_vector is not None:\n",
    "            embedding_matrix[i] = embedding_vector\n",
    "        \n",
    "# top vocabs\n",
    "# vocab = np.array(encoder.get_vocabulary())\n",
    "# vocab[:30]"
   ]
  },
  {
   "cell_type": "code",
   "execution_count": 8,
   "id": "d1edc05a-bf70-47aa-b681-8bbcb74b1991",
   "metadata": {},
   "outputs": [
    {
     "name": "stdout",
     "output_type": "stream",
     "text": [
      "text:  b' reading right left'\n",
      "label:  0\n",
      "[[  1  99 386   0   0   0   0   0   0   0   0   0   0   0   0   0   0   0\n",
      "    0   0   0]\n",
      " [  1 672 385 270 488   0   0   0   0   0   0   0   0   0   0   0   0   0\n",
      "    0   0   0]\n",
      " [  1   1   1   1   1 130   1   1 386   1 285   0   0   0   0   0   0   0\n",
      "    0   0   0]]\n"
     ]
    }
   ],
   "source": [
    "# example encoder output\n",
    "for example, label in train_dataset.take(1):\n",
    "  print('text: ', example[0].numpy())\n",
    "  print('label: ', label[0].numpy())\n",
    "    \n",
    "encoded_example = encoder(example)[:3].numpy()\n",
    "print(encoded_example)"
   ]
  },
  {
   "cell_type": "code",
   "execution_count": 9,
   "id": "1d3fd293-f8c9-484e-b41d-45841144925d",
   "metadata": {},
   "outputs": [],
   "source": [
    "# original and round-trip with the encoder\n",
    "# for n in range(3):\n",
    "#   print(\"Original: \", example[n].numpy())\n",
    "#   print(\"Round-trip: \", \" \".join(vocab[encoded_example[n]]))\n",
    "#   print()"
   ]
  },
  {
   "cell_type": "code",
   "execution_count": 10,
   "id": "ca42c5d3-41bb-45b5-9af3-60f9ddc13adc",
   "metadata": {},
   "outputs": [
    {
     "name": "stdout",
     "output_type": "stream",
     "text": [
      "Epoch 1/10\n",
      "113/113 [==============================] - 14s 62ms/step - loss: 0.6682 - accuracy: 0.5759 - val_loss: 0.6064 - val_accuracy: 0.6250\n",
      "Epoch 2/10\n",
      "113/113 [==============================] - 5s 46ms/step - loss: 0.5269 - accuracy: 0.7322 - val_loss: 0.4928 - val_accuracy: 0.7812\n",
      "Epoch 3/10\n",
      "113/113 [==============================] - 5s 45ms/step - loss: 0.4768 - accuracy: 0.7749 - val_loss: 0.4578 - val_accuracy: 0.7812\n",
      "Epoch 4/10\n",
      "113/113 [==============================] - 5s 46ms/step - loss: 0.4567 - accuracy: 0.7883 - val_loss: 0.4334 - val_accuracy: 0.7969\n",
      "Epoch 5/10\n",
      "113/113 [==============================] - 5s 46ms/step - loss: 0.4460 - accuracy: 0.7898 - val_loss: 0.4203 - val_accuracy: 0.7969\n",
      "Epoch 6/10\n",
      "113/113 [==============================] - 5s 47ms/step - loss: 0.4343 - accuracy: 0.8031 - val_loss: 0.4215 - val_accuracy: 0.7812\n",
      "Epoch 7/10\n",
      "113/113 [==============================] - 5s 46ms/step - loss: 0.4271 - accuracy: 0.8045 - val_loss: 0.4045 - val_accuracy: 0.7812\n",
      "Epoch 8/10\n",
      "113/113 [==============================] - 5s 47ms/step - loss: 0.4179 - accuracy: 0.8119 - val_loss: 0.4101 - val_accuracy: 0.8438\n",
      "Epoch 9/10\n",
      "113/113 [==============================] - 5s 47ms/step - loss: 0.4139 - accuracy: 0.8141 - val_loss: 0.4129 - val_accuracy: 0.7969\n",
      "Epoch 10/10\n",
      "113/113 [==============================] - 5s 46ms/step - loss: 0.4043 - accuracy: 0.8212 - val_loss: 0.4080 - val_accuracy: 0.7969\n"
     ]
    }
   ],
   "source": [
    "# use pretrained embeddings?\n",
    "if use_glove:\n",
    "    embed_layer = tf.keras.layers.Embedding(vocab_size, embed_len, weights=[embedding_matrix], trainable=is_embed_trained)\n",
    "else:\n",
    "    embed_layer = tf.keras.layers.Embedding(\n",
    "        input_dim=len(encoder.get_vocabulary()),\n",
    "        output_dim=64,\n",
    "        # Use masking to handle the variable sequence lengths\n",
    "        mask_zero=True)\n",
    "\n",
    "# model\n",
    "model = tf.keras.Sequential([\n",
    "    encoder,\n",
    "    embed_layer,\n",
    "    tf.keras.layers.Dense(64, activation='relu'),\n",
    "    tf.keras.layers.Bidirectional(tf.keras.layers.LSTM(32,  return_sequences=True)),\n",
    "    tf.keras.layers.Bidirectional(tf.keras.layers.LSTM(32)),\n",
    "    tf.keras.layers.Dense(64, activation='relu'),\n",
    "    # tf.keras.layers.Dropout(0.1),\n",
    "    tf.keras.layers.Dense(1)\n",
    "])\n",
    "\n",
    "model.compile(loss=tf.keras.losses.BinaryCrossentropy(from_logits=True),\n",
    "              optimizer=tf.keras.optimizers.Adam(1e-4),\n",
    "              metrics=['accuracy'])\n",
    "\n",
    "history = model.fit(train_dataset, epochs=10,\n",
    "                    validation_data=validation_dataset,\n",
    "                    validation_steps=1)"
   ]
  },
  {
   "cell_type": "code",
   "execution_count": 11,
   "id": "2e7de5bd-eb48-4d3d-8055-d4317e6729bc",
   "metadata": {},
   "outputs": [
    {
     "name": "stdout",
     "output_type": "stream",
     "text": [
      "13/13 [==============================] - 2s 8ms/step\n",
      "number of tweets:  400\n",
      "number of correctly classified tweets:  312\n",
      "accuracy:  0.78\n"
     ]
    },
    {
     "data": {
      "image/png": "[encoded data removed]",
      "text/plain": [
       "<Figure size 1152x432 with 2 Axes>"
      ]
     },
     "metadata": {
      "needs_background": "light"
     },
     "output_type": "display_data"
    }
   ],
   "source": [
    "def plot_graphs(history, metric):\n",
    "  plt.plot(history.history[metric])\n",
    "  plt.plot(history.history['val_'+metric], '')\n",
    "  plt.xlabel(\"Epochs\")\n",
    "  plt.ylabel(metric)\n",
    "  plt.legend([metric, 'val_'+metric])\n",
    "\n",
    "plt.figure(figsize=(16, 6))\n",
    "plt.subplot(1, 2, 1)\n",
    "plot_graphs(history, 'accuracy')\n",
    "plt.ylim(None, 1)\n",
    "plt.subplot(1, 2, 2)\n",
    "plot_graphs(history, 'loss')\n",
    "plt.ylim(0, None)\n",
    "\n",
    "y = model.predict(np.array(validation_data))\n",
    "y = np.transpose(y)[0]\n",
    "y = np.multiply(y>0, 1)\n",
    "target = validation_label\n",
    "print('number of tweets: ',y.shape[0])\n",
    "print('number of correctly classified tweets: ',sum((y-target)==0))\n",
    "print('accuracy: ',sum((y-target)==0)/y.shape[0])"
   ]
  },
  {
   "cell_type": "code",
   "execution_count": 12,
   "id": "9a7a4101-c576-4ff2-9acc-9bdbdc3d4022",
   "metadata": {},
   "outputs": [],
   "source": [
    "predictions = model.predict(np.array(test_data))\n",
    "predictions = np.transpose(predictions)[0]\n",
    "predictions = (predictions>0)\n",
    "predictions = np.multiply(predictions, 1)\n",
    "df = pd.DataFrame(data={'id':test_id,'target': np.transpose(predictions).tolist()})\n",
    "df.head()\n",
    "df.to_csv('submission.csv',index=False)"
   ]
  },
  {
   "cell_type": "code",
   "execution_count": null,
   "id": "23458a54-c422-4b95-b7ca-65856e363e77",
   "metadata": {},
   "outputs": [],
   "source": []
  }
 ],
 "metadata": {
  "kernelspec": {
   "display_name": "Python 3 (ipykernel)",
   "language": "python",
   "name": "python3"
  },
  "language_info": {
   "codemirror_mode": {
    "name": "ipython",
    "version": 3
   },
   "file_extension": ".py",
   "mimetype": "text/x-python",
   "name": "python",
   "nbconvert_exporter": "python",
   "pygments_lexer": "ipython3",
   "version": "3.9.13"
  }
 },
 "nbformat": 4,
 "nbformat_minor": 5
}
